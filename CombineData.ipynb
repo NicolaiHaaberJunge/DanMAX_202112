{
 "cells": [
  {
   "cell_type": "code",
   "execution_count": 1,
   "id": "3ea9e52a-e62c-4552-9d78-771254d5e8ea",
   "metadata": {},
   "outputs": [],
   "source": [
    "%load_ext autoreload\n",
    "%autoreload 2\n",
    "\n",
    "%matplotlib widget"
   ]
  },
  {
   "cell_type": "code",
   "execution_count": 2,
   "id": "eb1d6bea-dd2e-49ac-ac8f-c6f590b7db5a",
   "metadata": {},
   "outputs": [],
   "source": [
    "import functions.parsers as pars\n",
    "from functions.interpolation import interpolative_merge\n",
    "from functions.cleaners import fill_timegaps\n",
    "import visualization.plot as vpt\n",
    "\n",
    "import pandas as pd\n",
    "import numpy as np\n",
    "pd.set_option(\"display.max_columns\", None)"
   ]
  },
  {
   "cell_type": "markdown",
   "id": "cbbad16e-6d9f-45ea-8955-6544c1f2b589",
   "metadata": {
    "tags": []
   },
   "source": [
    "## Load Data"
   ]
  },
  {
   "cell_type": "markdown",
   "id": "7a82a0a9-96f7-42cc-9f5e-7efd06a8c830",
   "metadata": {},
   "source": [
    "### filepaths"
   ]
  },
  {
   "cell_type": "code",
   "execution_count": 3,
   "id": "fe39af58-457c-4b63-a950-59e3c0e4d067",
   "metadata": {},
   "outputs": [],
   "source": [
    "gas_file = r\"../../datastreams/FlowData/Export (2021-11-29 132252 to 2021-12-03 142723).csv\" #r\"data/FlowData/Export (2021-11-29 132252 to 2021-12-03 142723).csv\"\n",
    "xrd_file = r\"../../raw/Na-Y_CBV100/combined.txt\"\n",
    "topas_file = r\"../../refinements/Na-Y_CBV100/Resultsold.txt\"\n",
    "ms_file = r\"../../datastreams//MS/0212202101.asc\"\n",
    "heater_file = r\"../../datastreams/Heater/MAX002.xlsm\""
   ]
  },
  {
   "cell_type": "markdown",
   "id": "c435b8f6-8dba-443a-ab8d-e550fc1fff81",
   "metadata": {},
   "source": [
    "### dataframes"
   ]
  },
  {
   "cell_type": "code",
   "execution_count": 4,
   "id": "3a0cbc02-162a-4979-b185-3b0ca11a5deb",
   "metadata": {},
   "outputs": [],
   "source": [
    "df_ms = pars.ms(ms_file)\n",
    "df_gas = pars.gas_system(gas_file)\n",
    "df_heater = pars.heater(heater_file)\n",
    "df_xrd = pars.danmax_xrd(xrd_file)\n",
    "df_topas = pars.topas(topas_file)"
   ]
  },
  {
   "cell_type": "markdown",
   "id": "8e4b4b1f-511f-4bde-81e0-946560c5397a",
   "metadata": {},
   "source": [
    "## Modifying data"
   ]
  },
  {
   "cell_type": "code",
   "execution_count": 5,
   "id": "76ea60c4-8df7-4e29-b3c2-531ef705aa69",
   "metadata": {},
   "outputs": [],
   "source": [
    "df_total = pars.join_xrd_topas(df_topas, df_xrd)"
   ]
  },
  {
   "cell_type": "markdown",
   "id": "466b0d53-383a-4c20-bf53-49911ba0434e",
   "metadata": {},
   "source": [
    "## Fixing data gaps"
   ]
  },
  {
   "cell_type": "code",
   "execution_count": 9,
   "id": "2905d76b-25b3-4239-851e-3bec16516542",
   "metadata": {},
   "outputs": [],
   "source": [
    "df_total = fill_timegaps(df_total, threshold=15)"
   ]
  },
  {
   "cell_type": "markdown",
   "id": "f0f3b0cb-c89a-43d6-bbe4-c4a256a83ce1",
   "metadata": {
    "tags": []
   },
   "source": [
    "## Interpolation"
   ]
  },
  {
   "cell_type": "code",
   "execution_count": 10,
   "id": "abe8cefe-ad2a-4c9c-8639-7b761d38cc82",
   "metadata": {},
   "outputs": [],
   "source": [
    "interpolative_merge(df1=df_total, df2=df_gas, df1_time=\"XRDTimeStamp\", df2_time=\"Timestamp\", columns=[\"FI111_PV\", \"FI111_SP\", \"FIC111_SP\", \"FIC111_PV\", \"GVV111_HS\", \"GVV121_HS\", \"GBV122_HS\"], inplace=True)\n",
    "interpolative_merge(df1=df_total, df2=df_heater, df1_time=\"XRDTimeStamp\", df2_time=\"HistoricalTimeString\", columns=[\"TIC100_PV\", \"TIC100_SP\"], inplace=True)\n",
    "\n",
    "MS_columns = [col for col in df_ms.columns[1:].to_list() if col not in [\"RelTime[s]\", \"MSTimeStamp\"]]\n",
    "interpolative_merge(df1=df_total, df2=df_ms, df1_time=\"XRDTimeStamp\", df2_time=\"MSTimeStamp\", columns=MS_columns, floor=[\"Cycle\"] , inplace=True)\n",
    "\n",
    "df_total[\"Rel.Time/min\"] = (df_total[\"XRDTimeStamp\"] - df_total[\"XRDTimeStamp\"][0]).dt.total_seconds()/60\n",
    "df_total = df_total.set_index(\"Rel.Time/min\").reset_index()"
   ]
  },
  {
   "cell_type": "markdown",
   "id": "814cd962-0c79-4a5f-a72d-38b1757b54c5",
   "metadata": {},
   "source": [
    "## Visualization"
   ]
  },
  {
   "cell_type": "code",
   "execution_count": 11,
   "id": "1dc89595-60a8-4843-84e3-7202beb1fab3",
   "metadata": {},
   "outputs": [
    {
     "data": {
      "application/vnd.jupyter.widget-view+json": {
       "model_id": "b5088f24a11d4b648d0ca3f9b2059e2b",
       "version_major": 2,
       "version_minor": 0
      },
      "text/plain": [
       "HBox(children=(VBox(children=(Select(description='Left Y-Axis', layout=Layout(height='200px'), options=('Rwp_0…"
      ]
     },
     "metadata": {},
     "output_type": "display_data"
    }
   ],
   "source": [
    "vpt.plot(df_total)"
   ]
  },
  {
   "cell_type": "markdown",
   "id": "09b97a6c-4ad0-46e9-8dce-7b48403ed832",
   "metadata": {},
   "source": [
    "## To Csv"
   ]
  },
  {
   "cell_type": "code",
   "execution_count": 100,
   "id": "dcdcea1c-8379-4528-8e59-b76e8724f6a6",
   "metadata": {},
   "outputs": [],
   "source": [
    "import os\n",
    "import re\n",
    "\n",
    "xrd_name = re.findall(r\"(?<=\\/)[^.]+\", xrd_file)[0]\n",
    "result_name = os.path.join(r\"../../analysis/DanMAX_202112/\", \"_combined.csv\")\n",
    "df_total.to_csv(result_name, sep=\";\", decimal=\",\", index=False)"
   ]
  }
 ],
 "metadata": {
  "kernelspec": {
   "display_name": "Python 3 (ipykernel)",
   "language": "python",
   "name": "python3"
  },
  "language_info": {
   "codemirror_mode": {
    "name": "ipython",
    "version": 3
   },
   "file_extension": ".py",
   "mimetype": "text/x-python",
   "name": "python",
   "nbconvert_exporter": "python",
   "pygments_lexer": "ipython3",
   "version": "3.8.12"
  }
 },
 "nbformat": 4,
 "nbformat_minor": 5
}
